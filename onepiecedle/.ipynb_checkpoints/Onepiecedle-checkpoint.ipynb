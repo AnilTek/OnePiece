{
 "cells": [
  {
   "cell_type": "code",
   "execution_count": 1,
   "id": "007e0928-5e5a-4075-8b24-a0173985ebe9",
   "metadata": {},
   "outputs": [],
   "source": [
    "import numpy as np \n",
    "import pandas as pd"
   ]
  },
  {
   "cell_type": "code",
   "execution_count": 2,
   "id": "a251f91a-d492-4e3f-8b9a-fc886510e256",
   "metadata": {},
   "outputs": [],
   "source": [
    "df = pd.read_excel(\"onepiece_names1.xlsx\")"
   ]
  },
  {
   "cell_type": "code",
   "execution_count": 3,
   "id": "5400cbef-e601-4f29-9218-4c35093e1628",
   "metadata": {},
   "outputs": [
    {
     "data": {
      "text/html": [
       "<div>\n",
       "<style scoped>\n",
       "    .dataframe tbody tr th:only-of-type {\n",
       "        vertical-align: middle;\n",
       "    }\n",
       "\n",
       "    .dataframe tbody tr th {\n",
       "        vertical-align: top;\n",
       "    }\n",
       "\n",
       "    .dataframe thead th {\n",
       "        text-align: right;\n",
       "    }\n",
       "</style>\n",
       "<table border=\"1\" class=\"dataframe\">\n",
       "  <thead>\n",
       "    <tr style=\"text-align: right;\">\n",
       "      <th></th>\n",
       "      <th>Name</th>\n",
       "      <th>Image</th>\n",
       "      <th>Gender</th>\n",
       "      <th>Age</th>\n",
       "      <th>Devil Fruit</th>\n",
       "      <th>Last Bounty</th>\n",
       "      <th>Debut Arc</th>\n",
       "      <th>Haki</th>\n",
       "      <th>Affiliation</th>\n",
       "      <th>Debut Chapter ; Episode</th>\n",
       "    </tr>\n",
       "  </thead>\n",
       "  <tbody>\n",
       "    <tr>\n",
       "      <th>0</th>\n",
       "      <td>Monkey D. Luffy</td>\n",
       "      <td>monkey_d_luffy.jpg</td>\n",
       "      <td>Male</td>\n",
       "      <td>19</td>\n",
       "      <td>Zoan</td>\n",
       "      <td>3B</td>\n",
       "      <td>Romance Dawn</td>\n",
       "      <td>All</td>\n",
       "      <td>Straw Hat Pirates</td>\n",
       "      <td>Chapter 1; Episode 1</td>\n",
       "    </tr>\n",
       "    <tr>\n",
       "      <th>1</th>\n",
       "      <td>Roronoa Zoro</td>\n",
       "      <td>roronoa_zoro.jpg</td>\n",
       "      <td>Male</td>\n",
       "      <td>21</td>\n",
       "      <td>NaN</td>\n",
       "      <td>1.1B</td>\n",
       "      <td>Romance Dawn</td>\n",
       "      <td>All</td>\n",
       "      <td>Straw Hat Pirates</td>\n",
       "      <td>Chapter 3; Episode 1</td>\n",
       "    </tr>\n",
       "    <tr>\n",
       "      <th>2</th>\n",
       "      <td>Vinsmoke Sanji</td>\n",
       "      <td>vinsmoke_sanji.jpg</td>\n",
       "      <td>Male</td>\n",
       "      <td>21</td>\n",
       "      <td>NaN</td>\n",
       "      <td>1B</td>\n",
       "      <td>Baratie</td>\n",
       "      <td>ArmObs</td>\n",
       "      <td>Straw Hat Pirates</td>\n",
       "      <td>Chapter 43; Episode 20</td>\n",
       "    </tr>\n",
       "    <tr>\n",
       "      <th>3</th>\n",
       "      <td>Nami</td>\n",
       "      <td>nami.jpg</td>\n",
       "      <td>Female</td>\n",
       "      <td>20</td>\n",
       "      <td>NaN</td>\n",
       "      <td>366M</td>\n",
       "      <td>Orange Town</td>\n",
       "      <td>NaN</td>\n",
       "      <td>Straw Hat Pirates</td>\n",
       "      <td>Chapter 8; Episode 1</td>\n",
       "    </tr>\n",
       "    <tr>\n",
       "      <th>4</th>\n",
       "      <td>Nico Robin</td>\n",
       "      <td>nico_robin.jpg</td>\n",
       "      <td>Female</td>\n",
       "      <td>30</td>\n",
       "      <td>Paramecia</td>\n",
       "      <td>930M</td>\n",
       "      <td>Whisky Peak</td>\n",
       "      <td>NaN</td>\n",
       "      <td>Straw Hat Pirates</td>\n",
       "      <td>Chapter 114; Episode 67</td>\n",
       "    </tr>\n",
       "  </tbody>\n",
       "</table>\n",
       "</div>"
      ],
      "text/plain": [
       "              Name               Image  Gender Age Devil Fruit Last Bounty  \\\n",
       "0  Monkey D. Luffy  monkey_d_luffy.jpg    Male  19        Zoan          3B   \n",
       "1     Roronoa Zoro    roronoa_zoro.jpg    Male  21         NaN        1.1B   \n",
       "2   Vinsmoke Sanji  vinsmoke_sanji.jpg    Male  21         NaN          1B   \n",
       "3             Nami            nami.jpg  Female  20         NaN        366M   \n",
       "4       Nico Robin      nico_robin.jpg  Female  30   Paramecia        930M   \n",
       "\n",
       "      Debut Arc    Haki        Affiliation  Debut Chapter ; Episode  \n",
       "0  Romance Dawn     All  Straw Hat Pirates     Chapter 1; Episode 1  \n",
       "1  Romance Dawn     All  Straw Hat Pirates     Chapter 3; Episode 1  \n",
       "2       Baratie  ArmObs  Straw Hat Pirates   Chapter 43; Episode 20  \n",
       "3   Orange Town     NaN  Straw Hat Pirates     Chapter 8; Episode 1  \n",
       "4   Whisky Peak     NaN  Straw Hat Pirates  Chapter 114; Episode 67  "
      ]
     },
     "execution_count": 3,
     "metadata": {},
     "output_type": "execute_result"
    }
   ],
   "source": [
    "df.head()"
   ]
  },
  {
   "cell_type": "code",
   "execution_count": 4,
   "id": "2089248a-5a8f-488a-a1c1-f4db99876da5",
   "metadata": {},
   "outputs": [
    {
     "name": "stdout",
     "output_type": "stream",
     "text": [
      "<class 'pandas.core.frame.DataFrame'>\n",
      "RangeIndex: 267 entries, 0 to 266\n",
      "Data columns (total 10 columns):\n",
      " #   Column                   Non-Null Count  Dtype \n",
      "---  ------                   --------------  ----- \n",
      " 0   Name                     267 non-null    object\n",
      " 1   Image                    267 non-null    object\n",
      " 2   Gender                   267 non-null    object\n",
      " 3   Age                      267 non-null    object\n",
      " 4   Devil Fruit              131 non-null    object\n",
      " 5   Last Bounty              264 non-null    object\n",
      " 6   Debut Arc                267 non-null    object\n",
      " 7   Haki                     118 non-null    object\n",
      " 8   Affiliation              249 non-null    object\n",
      " 9   Debut Chapter ; Episode  267 non-null    object\n",
      "dtypes: object(10)\n",
      "memory usage: 21.0+ KB\n"
     ]
    }
   ],
   "source": [
    "df.info()"
   ]
  },
  {
   "cell_type": "code",
   "execution_count": 5,
   "id": "9d09dbc7-e026-4d25-8f3f-ad9fd2ea0976",
   "metadata": {},
   "outputs": [
    {
     "data": {
      "text/plain": [
       "0      19\n",
       "1      21\n",
       "2      21\n",
       "3      20\n",
       "4      30\n",
       "       ..\n",
       "262     8\n",
       "263     8\n",
       "264     8\n",
       "265    69\n",
       "266    30\n",
       "Name: Age, Length: 267, dtype: object"
      ]
     },
     "execution_count": 5,
     "metadata": {},
     "output_type": "execute_result"
    }
   ],
   "source": [
    "df[\"Age\"]"
   ]
  },
  {
   "cell_type": "markdown",
   "id": "e075e22f-69ae-46ee-ae55-da92957230c0",
   "metadata": {},
   "source": [
    "## Converting Age to numerical"
   ]
  },
  {
   "cell_type": "code",
   "execution_count": 6,
   "id": "0cd05ca2-9420-454f-8462-458c1f1559e0",
   "metadata": {},
   "outputs": [],
   "source": [
    "df[\"Age\"] = df[\"Age\"].astype(str).str.replace(\"+\", \"\", regex=False)\n",
    "df[\"Age\"] = pd.to_numeric(df[\"Age\"], errors=\"coerce\")"
   ]
  },
  {
   "cell_type": "markdown",
   "id": "1f788052-ddce-46e5-a6b2-e088ee969c55",
   "metadata": {},
   "source": [
    "## Clean Debut part"
   ]
  },
  {
   "cell_type": "code",
   "execution_count": 7,
   "id": "3a1cb7e8-2c29-4432-8430-53ea2afd87fe",
   "metadata": {},
   "outputs": [],
   "source": [
    "df[\"Episode\"] = df[\"Debut Chapter ; Episode\"]\n",
    "df.drop([\"Debut Chapter ; Episode\"],axis=1,inplace=True)"
   ]
  },
  {
   "cell_type": "code",
   "execution_count": 8,
   "id": "534badef-7654-4039-b87b-55108b2ce057",
   "metadata": {},
   "outputs": [],
   "source": [
    "df[\"Episode\"] = df[\"Episode\"].apply(lambda x: x.split(\";\")[1] if isinstance(x, str) else x)"
   ]
  },
  {
   "cell_type": "code",
   "execution_count": 9,
   "id": "3c14f313-6d1d-4a91-9789-c6e9c9d50bd0",
   "metadata": {},
   "outputs": [
    {
     "data": {
      "text/plain": [
       "0          Episode 1\n",
       "1          Episode 1\n",
       "2         Episode 20\n",
       "3          Episode 1\n",
       "4         Episode 67\n",
       "           ...      \n",
       "262     Episode 1087\n",
       "263     Episode 1094\n",
       "264     Episode 1092\n",
       "265      Episode 932\n",
       "266        Episode 0\n",
       "Name: Episode, Length: 267, dtype: object"
      ]
     },
     "execution_count": 9,
     "metadata": {},
     "output_type": "execute_result"
    }
   ],
   "source": [
    "df[\"Episode\"]"
   ]
  },
  {
   "cell_type": "markdown",
   "id": "18999256-d4b6-4052-ab76-f97921e8d4e5",
   "metadata": {},
   "source": [
    "## Bounty"
   ]
  },
  {
   "cell_type": "code",
   "execution_count": 10,
   "id": "200d898e-5720-4b59-8d58-2f473a92cd94",
   "metadata": {},
   "outputs": [],
   "source": [
    "df[\"Last Bounty\"] = df[\"Last Bounty\"].fillna(0)\n",
    "\n",
    "\n",
    "def convert_bounty(value):\n",
    "    if isinstance(value, str):\n",
    "        if value.endswith(\"M\"):  \n",
    "            return float(value.replace(\"M\", \"\")) * 1_000_000\n",
    "        elif value.endswith(\"B\"):  \n",
    "            return float(value.replace(\"B\", \"\")) * 1_000_000_000\n",
    "        elif value.isnumeric():  \n",
    "            return int(value)\n",
    "    return 0  \n",
    "\n",
    "\n",
    "df[\"Last Bounty\"] = df[\"Last Bounty\"].apply(convert_bounty)\n",
    "\n",
    "\n",
    "df[\"Last Bounty\"] = df[\"Last Bounty\"].astype(\"int64\")"
   ]
  },
  {
   "cell_type": "code",
   "execution_count": 11,
   "id": "f9405b02-e0fa-4c28-8c18-8f97a9e8a1bc",
   "metadata": {},
   "outputs": [
    {
     "data": {
      "text/html": [
       "<div>\n",
       "<style scoped>\n",
       "    .dataframe tbody tr th:only-of-type {\n",
       "        vertical-align: middle;\n",
       "    }\n",
       "\n",
       "    .dataframe tbody tr th {\n",
       "        vertical-align: top;\n",
       "    }\n",
       "\n",
       "    .dataframe thead th {\n",
       "        text-align: right;\n",
       "    }\n",
       "</style>\n",
       "<table border=\"1\" class=\"dataframe\">\n",
       "  <thead>\n",
       "    <tr style=\"text-align: right;\">\n",
       "      <th></th>\n",
       "      <th>Name</th>\n",
       "      <th>Image</th>\n",
       "      <th>Gender</th>\n",
       "      <th>Age</th>\n",
       "      <th>Devil Fruit</th>\n",
       "      <th>Last Bounty</th>\n",
       "      <th>Debut Arc</th>\n",
       "      <th>Haki</th>\n",
       "      <th>Affiliation</th>\n",
       "      <th>Episode</th>\n",
       "    </tr>\n",
       "  </thead>\n",
       "  <tbody>\n",
       "    <tr>\n",
       "      <th>0</th>\n",
       "      <td>Monkey D. Luffy</td>\n",
       "      <td>monkey_d_luffy.jpg</td>\n",
       "      <td>Male</td>\n",
       "      <td>19.0</td>\n",
       "      <td>Zoan</td>\n",
       "      <td>3000000000</td>\n",
       "      <td>Romance Dawn</td>\n",
       "      <td>All</td>\n",
       "      <td>Straw Hat Pirates</td>\n",
       "      <td>Episode 1</td>\n",
       "    </tr>\n",
       "    <tr>\n",
       "      <th>1</th>\n",
       "      <td>Roronoa Zoro</td>\n",
       "      <td>roronoa_zoro.jpg</td>\n",
       "      <td>Male</td>\n",
       "      <td>21.0</td>\n",
       "      <td>NaN</td>\n",
       "      <td>1100000000</td>\n",
       "      <td>Romance Dawn</td>\n",
       "      <td>All</td>\n",
       "      <td>Straw Hat Pirates</td>\n",
       "      <td>Episode 1</td>\n",
       "    </tr>\n",
       "    <tr>\n",
       "      <th>2</th>\n",
       "      <td>Vinsmoke Sanji</td>\n",
       "      <td>vinsmoke_sanji.jpg</td>\n",
       "      <td>Male</td>\n",
       "      <td>21.0</td>\n",
       "      <td>NaN</td>\n",
       "      <td>1000000000</td>\n",
       "      <td>Baratie</td>\n",
       "      <td>ArmObs</td>\n",
       "      <td>Straw Hat Pirates</td>\n",
       "      <td>Episode 20</td>\n",
       "    </tr>\n",
       "    <tr>\n",
       "      <th>3</th>\n",
       "      <td>Nami</td>\n",
       "      <td>nami.jpg</td>\n",
       "      <td>Female</td>\n",
       "      <td>20.0</td>\n",
       "      <td>NaN</td>\n",
       "      <td>366000000</td>\n",
       "      <td>Orange Town</td>\n",
       "      <td>NaN</td>\n",
       "      <td>Straw Hat Pirates</td>\n",
       "      <td>Episode 1</td>\n",
       "    </tr>\n",
       "    <tr>\n",
       "      <th>4</th>\n",
       "      <td>Nico Robin</td>\n",
       "      <td>nico_robin.jpg</td>\n",
       "      <td>Female</td>\n",
       "      <td>30.0</td>\n",
       "      <td>Paramecia</td>\n",
       "      <td>930000000</td>\n",
       "      <td>Whisky Peak</td>\n",
       "      <td>NaN</td>\n",
       "      <td>Straw Hat Pirates</td>\n",
       "      <td>Episode 67</td>\n",
       "    </tr>\n",
       "  </tbody>\n",
       "</table>\n",
       "</div>"
      ],
      "text/plain": [
       "              Name               Image  Gender   Age Devil Fruit  Last Bounty  \\\n",
       "0  Monkey D. Luffy  monkey_d_luffy.jpg    Male  19.0        Zoan   3000000000   \n",
       "1     Roronoa Zoro    roronoa_zoro.jpg    Male  21.0         NaN   1100000000   \n",
       "2   Vinsmoke Sanji  vinsmoke_sanji.jpg    Male  21.0         NaN   1000000000   \n",
       "3             Nami            nami.jpg  Female  20.0         NaN    366000000   \n",
       "4       Nico Robin      nico_robin.jpg  Female  30.0   Paramecia    930000000   \n",
       "\n",
       "      Debut Arc    Haki        Affiliation      Episode  \n",
       "0  Romance Dawn     All  Straw Hat Pirates    Episode 1  \n",
       "1  Romance Dawn     All  Straw Hat Pirates    Episode 1  \n",
       "2       Baratie  ArmObs  Straw Hat Pirates   Episode 20  \n",
       "3   Orange Town     NaN  Straw Hat Pirates    Episode 1  \n",
       "4   Whisky Peak     NaN  Straw Hat Pirates   Episode 67  "
      ]
     },
     "execution_count": 11,
     "metadata": {},
     "output_type": "execute_result"
    }
   ],
   "source": [
    "df.head(200)"
   ]
  },
  {
   "cell_type": "code",
   "execution_count": 12,
   "id": "53a0d03a-75fb-48c1-8dc4-b454fceb5b6b",
   "metadata": {},
   "outputs": [
    {
     "name": "stdout",
     "output_type": "stream",
     "text": [
      "<class 'pandas.core.frame.DataFrame'>\n",
      "RangeIndex: 267 entries, 0 to 266\n",
      "Data columns (total 10 columns):\n",
      " #   Column       Non-Null Count  Dtype  \n",
      "---  ------       --------------  -----  \n",
      " 0   Name         267 non-null    object \n",
      " 1   Image        267 non-null    object \n",
      " 2   Gender       267 non-null    object \n",
      " 3   Age          265 non-null    float64\n",
      " 4   Devil Fruit  131 non-null    object \n",
      " 5   Last Bounty  267 non-null    int64  \n",
      " 6   Debut Arc    267 non-null    object \n",
      " 7   Haki         118 non-null    object \n",
      " 8   Affiliation  249 non-null    object \n",
      " 9   Episode      267 non-null    object \n",
      "dtypes: float64(1), int64(1), object(8)\n",
      "memory usage: 21.0+ KB\n"
     ]
    }
   ],
   "source": [
    "df.info()"
   ]
  },
  {
   "cell_type": "code",
   "execution_count": null,
   "id": "a9da74c7-0792-401d-b212-dbfecd927ada",
   "metadata": {},
   "outputs": [],
   "source": []
  }
 ],
 "metadata": {
  "kernelspec": {
   "display_name": "Python 3 (ipykernel)",
   "language": "python",
   "name": "python3"
  },
  "language_info": {
   "codemirror_mode": {
    "name": "ipython",
    "version": 3
   },
   "file_extension": ".py",
   "mimetype": "text/x-python",
   "name": "python",
   "nbconvert_exporter": "python",
   "pygments_lexer": "ipython3",
   "version": "3.11.9"
  }
 },
 "nbformat": 4,
 "nbformat_minor": 5
}
